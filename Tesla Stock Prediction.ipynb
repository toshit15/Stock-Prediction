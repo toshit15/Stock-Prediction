{
 "cells": [
  {
   "cell_type": "code",
   "execution_count": 2,
   "metadata": {},
   "outputs": [],
   "source": [
    "import pandas as pd\n",
    "import numpy as np\n",
    "import matplotlib.pyplot as plt\n",
    "from datetime import datetime, timedelta\n",
    "\n",
    "from sklearn.linear_model import LinearRegression, Ridge, Lasso\n",
    "from sklearn import preprocessing\n",
    "from sklearn.model_selection import train_test_split\n",
    "\n",
    "df = pd.read_csv('./TSLA.csv')\n",
    "\n",
    "df['Date'] = pd.to_datetime(df.Date, format='%Y-%m-%d') # Converts string to datetime\n",
    "df = df.set_index('Date') # Set the index of dataframe to date column"
   ]
  },
  {
   "cell_type": "code",
   "execution_count": 3,
   "metadata": {},
   "outputs": [
    {
     "data": {
      "text/html": [
       "<div>\n",
       "<style scoped>\n",
       "    .dataframe tbody tr th:only-of-type {\n",
       "        vertical-align: middle;\n",
       "    }\n",
       "\n",
       "    .dataframe tbody tr th {\n",
       "        vertical-align: top;\n",
       "    }\n",
       "\n",
       "    .dataframe thead th {\n",
       "        text-align: right;\n",
       "    }\n",
       "</style>\n",
       "<table border=\"1\" class=\"dataframe\">\n",
       "  <thead>\n",
       "    <tr style=\"text-align: right;\">\n",
       "      <th></th>\n",
       "      <th>Open</th>\n",
       "      <th>High</th>\n",
       "      <th>Low</th>\n",
       "      <th>Close</th>\n",
       "      <th>Adj Close</th>\n",
       "      <th>Volume</th>\n",
       "    </tr>\n",
       "    <tr>\n",
       "      <th>Date</th>\n",
       "      <th></th>\n",
       "      <th></th>\n",
       "      <th></th>\n",
       "      <th></th>\n",
       "      <th></th>\n",
       "      <th></th>\n",
       "    </tr>\n",
       "  </thead>\n",
       "  <tbody>\n",
       "    <tr>\n",
       "      <td>2018-09-06</td>\n",
       "      <td>284.799988</td>\n",
       "      <td>291.170013</td>\n",
       "      <td>278.880005</td>\n",
       "      <td>280.950012</td>\n",
       "      <td>280.950012</td>\n",
       "      <td>7480800</td>\n",
       "    </tr>\n",
       "    <tr>\n",
       "      <td>2018-09-07</td>\n",
       "      <td>260.100006</td>\n",
       "      <td>268.350006</td>\n",
       "      <td>252.250000</td>\n",
       "      <td>263.239990</td>\n",
       "      <td>263.239990</td>\n",
       "      <td>22491900</td>\n",
       "    </tr>\n",
       "    <tr>\n",
       "      <td>2018-09-10</td>\n",
       "      <td>273.260010</td>\n",
       "      <td>286.029999</td>\n",
       "      <td>271.000000</td>\n",
       "      <td>285.500000</td>\n",
       "      <td>285.500000</td>\n",
       "      <td>14283500</td>\n",
       "    </tr>\n",
       "    <tr>\n",
       "      <td>2018-09-11</td>\n",
       "      <td>279.470001</td>\n",
       "      <td>282.000000</td>\n",
       "      <td>273.549988</td>\n",
       "      <td>279.440002</td>\n",
       "      <td>279.440002</td>\n",
       "      <td>9170000</td>\n",
       "    </tr>\n",
       "    <tr>\n",
       "      <td>2018-09-12</td>\n",
       "      <td>281.440002</td>\n",
       "      <td>292.500000</td>\n",
       "      <td>278.649994</td>\n",
       "      <td>290.540009</td>\n",
       "      <td>290.540009</td>\n",
       "      <td>10015400</td>\n",
       "    </tr>\n",
       "  </tbody>\n",
       "</table>\n",
       "</div>"
      ],
      "text/plain": [
       "                  Open        High         Low       Close   Adj Close  \\\n",
       "Date                                                                     \n",
       "2018-09-06  284.799988  291.170013  278.880005  280.950012  280.950012   \n",
       "2018-09-07  260.100006  268.350006  252.250000  263.239990  263.239990   \n",
       "2018-09-10  273.260010  286.029999  271.000000  285.500000  285.500000   \n",
       "2018-09-11  279.470001  282.000000  273.549988  279.440002  279.440002   \n",
       "2018-09-12  281.440002  292.500000  278.649994  290.540009  290.540009   \n",
       "\n",
       "              Volume  \n",
       "Date                  \n",
       "2018-09-06   7480800  \n",
       "2018-09-07  22491900  \n",
       "2018-09-10  14283500  \n",
       "2018-09-11   9170000  \n",
       "2018-09-12  10015400  "
      ]
     },
     "execution_count": 3,
     "metadata": {},
     "output_type": "execute_result"
    }
   ],
   "source": [
    "df.head()"
   ]
  },
  {
   "cell_type": "code",
   "execution_count": 4,
   "metadata": {},
   "outputs": [
    {
     "data": {
      "text/html": [
       "<div>\n",
       "<style scoped>\n",
       "    .dataframe tbody tr th:only-of-type {\n",
       "        vertical-align: middle;\n",
       "    }\n",
       "\n",
       "    .dataframe tbody tr th {\n",
       "        vertical-align: top;\n",
       "    }\n",
       "\n",
       "    .dataframe thead th {\n",
       "        text-align: right;\n",
       "    }\n",
       "</style>\n",
       "<table border=\"1\" class=\"dataframe\">\n",
       "  <thead>\n",
       "    <tr style=\"text-align: right;\">\n",
       "      <th></th>\n",
       "      <th>Open</th>\n",
       "      <th>High</th>\n",
       "      <th>Low</th>\n",
       "      <th>Close</th>\n",
       "      <th>Adj Close</th>\n",
       "      <th>Volume</th>\n",
       "    </tr>\n",
       "    <tr>\n",
       "      <th>Date</th>\n",
       "      <th></th>\n",
       "      <th></th>\n",
       "      <th></th>\n",
       "      <th></th>\n",
       "      <th></th>\n",
       "      <th></th>\n",
       "    </tr>\n",
       "  </thead>\n",
       "  <tbody>\n",
       "    <tr>\n",
       "      <td>2019-08-30</td>\n",
       "      <td>229.149994</td>\n",
       "      <td>232.440002</td>\n",
       "      <td>224.210007</td>\n",
       "      <td>225.610001</td>\n",
       "      <td>225.610001</td>\n",
       "      <td>9320600</td>\n",
       "    </tr>\n",
       "    <tr>\n",
       "      <td>2019-09-03</td>\n",
       "      <td>224.080002</td>\n",
       "      <td>228.949997</td>\n",
       "      <td>223.160004</td>\n",
       "      <td>225.009995</td>\n",
       "      <td>225.009995</td>\n",
       "      <td>5354100</td>\n",
       "    </tr>\n",
       "    <tr>\n",
       "      <td>2019-09-04</td>\n",
       "      <td>226.889999</td>\n",
       "      <td>228.460007</td>\n",
       "      <td>219.210007</td>\n",
       "      <td>220.679993</td>\n",
       "      <td>220.679993</td>\n",
       "      <td>5761000</td>\n",
       "    </tr>\n",
       "    <tr>\n",
       "      <td>2019-09-05</td>\n",
       "      <td>222.500000</td>\n",
       "      <td>229.800003</td>\n",
       "      <td>220.850006</td>\n",
       "      <td>229.580002</td>\n",
       "      <td>229.580002</td>\n",
       "      <td>7395300</td>\n",
       "    </tr>\n",
       "    <tr>\n",
       "      <td>2019-09-06</td>\n",
       "      <td>227.199997</td>\n",
       "      <td>229.600006</td>\n",
       "      <td>225.169998</td>\n",
       "      <td>228.990005</td>\n",
       "      <td>228.990005</td>\n",
       "      <td>3196301</td>\n",
       "    </tr>\n",
       "  </tbody>\n",
       "</table>\n",
       "</div>"
      ],
      "text/plain": [
       "                  Open        High         Low       Close   Adj Close  \\\n",
       "Date                                                                     \n",
       "2019-08-30  229.149994  232.440002  224.210007  225.610001  225.610001   \n",
       "2019-09-03  224.080002  228.949997  223.160004  225.009995  225.009995   \n",
       "2019-09-04  226.889999  228.460007  219.210007  220.679993  220.679993   \n",
       "2019-09-05  222.500000  229.800003  220.850006  229.580002  229.580002   \n",
       "2019-09-06  227.199997  229.600006  225.169998  228.990005  228.990005   \n",
       "\n",
       "             Volume  \n",
       "Date                 \n",
       "2019-08-30  9320600  \n",
       "2019-09-03  5354100  \n",
       "2019-09-04  5761000  \n",
       "2019-09-05  7395300  \n",
       "2019-09-06  3196301  "
      ]
     },
     "execution_count": 4,
     "metadata": {},
     "output_type": "execute_result"
    }
   ],
   "source": [
    "df.tail()"
   ]
  },
  {
   "cell_type": "code",
   "execution_count": 5,
   "metadata": {},
   "outputs": [],
   "source": [
    "forecast_out = 60 # Number of how many days to forecast\n",
    "df['Prediction'] = df['Adj Close'].shift(-forecast_out)"
   ]
  },
  {
   "cell_type": "code",
   "execution_count": 6,
   "metadata": {},
   "outputs": [],
   "source": [
    "x = np.array(df.drop(['Prediction'], 1))\n",
    "x = x[:-forecast_out]"
   ]
  },
  {
   "cell_type": "code",
   "execution_count": 7,
   "metadata": {},
   "outputs": [],
   "source": [
    "y = np.array(df['Prediction'])\n",
    "y = y[:-forecast_out]"
   ]
  },
  {
   "cell_type": "code",
   "execution_count": 8,
   "metadata": {},
   "outputs": [],
   "source": [
    "x_train, x_test, y_train, y_test = train_test_split(x, y, test_size = 0.2)"
   ]
  },
  {
   "cell_type": "code",
   "execution_count": 9,
   "metadata": {},
   "outputs": [
    {
     "name": "stderr",
     "output_type": "stream",
     "text": [
      "C:\\Users\\dell\\Anaconda3\\lib\\site-packages\\sklearn\\linear_model\\coordinate_descent.py:491: ConvergenceWarning: Objective did not converge. You might want to increase the number of iterations. Fitting data with very small alpha may cause precision problems.\n",
      "  ConvergenceWarning)\n"
     ]
    },
    {
     "data": {
      "text/plain": [
       "Lasso(alpha=1.0, copy_X=True, fit_intercept=True, max_iter=1000,\n",
       "   normalize=False, positive=False, precompute=False, random_state=None,\n",
       "   selection='cyclic', tol=0.0001, warm_start=False)"
      ]
     },
     "execution_count": 9,
     "metadata": {},
     "output_type": "execute_result"
    }
   ],
   "source": [
    "linear_model = LinearRegression()\n",
    "ridge_model = Ridge()\n",
    "lasso_model = Lasso()\n",
    "\n",
    "linear_model.fit(x_train, y_train)\n",
    "ridge_model.fit(x_train, y_train)\n",
    "lasso_model.fit(x_train, y_train)"
   ]
  },
  {
   "cell_type": "code",
   "execution_count": 10,
   "metadata": {},
   "outputs": [
    {
     "name": "stdout",
     "output_type": "stream",
     "text": [
      "LinearModel score: -0.11009058935965577\n",
      "RidgeModel score: -0.10985173127822344\n",
      "LassoModel score: -0.10881974333114197\n"
     ]
    }
   ],
   "source": [
    "linear_model_score = linear_model.score(x_test, y_test)\n",
    "print('LinearModel score:', linear_model_score)\n",
    "\n",
    "ridge_model_score = ridge_model.score(x_test, y_test)\n",
    "print('RidgeModel score:', ridge_model_score)\n",
    "\n",
    "lasso_model_score = lasso_model.score(x_test, y_test)\n",
    "print('LassoModel score:', lasso_model_score)"
   ]
  },
  {
   "cell_type": "code",
   "execution_count": 11,
   "metadata": {
    "collapsed": true
   },
   "outputs": [],
   "source": [
    "x_forecast = np.array(df.drop(['Prediction'], 1))[-forecast_out:]\n",
    "linear_model_forecast_prediction = linear_model.predict(x_forecast)\n",
    "linear_model_real_prediction = linear_model.predict(np.array(df.drop(['Prediction'], 1)))\n",
    "ridge_model_forecast_prediction = ridge_model.predict(x_forecast)\n",
    "ridge_model_real_prediction = ridge_model.predict(np.array(df.drop(['Prediction'], 1)))\n",
    "lasso_model_forecast_prediction = lasso_model.predict(x_forecast)\n",
    "lasso_model_real_prediction = lasso_model.predict(np.array(df.drop(['Prediction'], 1)))"
   ]
  },
  {
   "cell_type": "code",
   "execution_count": 13,
   "metadata": {},
   "outputs": [
    {
     "data": {
      "text/plain": [
       "<matplotlib.legend.Legend at 0x1af7fdd1e10>"
      ]
     },
     "execution_count": 13,
     "metadata": {},
     "output_type": "execute_result"
    },
    {
     "data": {
      "image/png": "[encoded data removed]",
      "text/plain": [
       "<Figure size 432x288 with 1 Axes>"
      ]
     },
     "metadata": {
      "needs_background": "light"
     },
     "output_type": "display_data"
    }
   ],
   "source": [
    "predicted_dates = []\n",
    "recent_date = df.index.max()\n",
    "display_at = 2100\n",
    "alpha = 0.5\n",
    "\n",
    "for i in range(forecast_out):\n",
    "    recent_date += timedelta(days=1)\n",
    "    predicted_dates.append(recent_date)\n",
    "\n",
    "plt.plot(df.index[display_at:], linear_model_real_prediction[display_at:], label='Linear Preds', c='blue', alpha=alpha)\n",
    "plt.plot(predicted_dates, linear_model_forecast_prediction, c='blue', alpha=alpha)\n",
    "plt.plot(df.index[display_at:], ridge_model_real_prediction[display_at:], label='Ridge Preds', c='green', alpha=alpha)\n",
    "plt.plot(predicted_dates, ridge_model_forecast_prediction, c='green', alpha=alpha)\n",
    "plt.plot(df.index[display_at:], lasso_model_real_prediction[display_at:], label='Lasso Preds', c='red', alpha=alpha)\n",
    "plt.plot(predicted_dates, lasso_model_forecast_prediction, c='red', alpha=alpha)\n",
    "plt.plot(df.index[display_at:], df['Close'][display_at:], label='AMD', c='black', linewidth=3)\n",
    "plt.legend()"
   ]
  },
  {
   "cell_type": "code",
   "execution_count": null,
   "metadata": {},
   "outputs": [],
   "source": []
  },
  {
   "cell_type": "code",
   "execution_count": null,
   "metadata": {},
   "outputs": [],
   "source": []
  },
  {
   "cell_type": "code",
   "execution_count": null,
   "metadata": {},
   "outputs": [],
   "source": []
  },
  {
   "cell_type": "code",
   "execution_count": null,
   "metadata": {},
   "outputs": [],
   "source": []
  },
  {
   "cell_type": "code",
   "execution_count": null,
   "metadata": {},
   "outputs": [],
   "source": []
  },
  {
   "cell_type": "code",
   "execution_count": null,
   "metadata": {},
   "outputs": [],
   "source": []
  },
  {
   "cell_type": "code",
   "execution_count": null,
   "metadata": {},
   "outputs": [],
   "source": []
  },
  {
   "cell_type": "code",
   "execution_count": null,
   "metadata": {},
   "outputs": [],
   "source": []
  },
  {
   "cell_type": "code",
   "execution_count": null,
   "metadata": {},
   "outputs": [],
   "source": []
  },
  {
   "cell_type": "code",
   "execution_count": null,
   "metadata": {},
   "outputs": [],
   "source": []
  },
  {
   "cell_type": "code",
   "execution_count": null,
   "metadata": {},
   "outputs": [],
   "source": []
  },
  {
   "cell_type": "code",
   "execution_count": null,
   "metadata": {},
   "outputs": [],
   "source": []
  },
  {
   "cell_type": "code",
   "execution_count": null,
   "metadata": {},
   "outputs": [],
   "source": []
  },
  {
   "cell_type": "code",
   "execution_count": null,
   "metadata": {},
   "outputs": [],
   "source": []
  }
 ],
 "metadata": {
  "kernelspec": {
   "display_name": "Python 3",
   "language": "python",
   "name": "python3"
  },
  "language_info": {
   "codemirror_mode": {
    "name": "ipython",
    "version": 3
   },
   "file_extension": ".py",
   "mimetype": "text/x-python",
   "name": "python",
   "nbconvert_exporter": "python",
   "pygments_lexer": "ipython3",
   "version": "3.7.0"
  }
 },
 "nbformat": 4,
 "nbformat_minor": 2
}
